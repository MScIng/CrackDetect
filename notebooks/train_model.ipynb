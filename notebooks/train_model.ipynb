{
 "cells": [
  {
   "cell_type": "code",
   "execution_count": 6,
   "metadata": {},
   "outputs": [],
   "source": [
    "import sys\n",
    "sys.path.insert(0, '../')"
   ]
  },
  {
   "cell_type": "markdown",
   "metadata": {},
   "source": [
    "# train_model pipeline\n",
    "\n",
    "This notebook explains how to train a model after extracting features. The models employed here are simple neural networks taking features as inputs and outputting the four KPIs as targets.\n",
    "\n",
    "#### ***Quick Start***\n",
    "\n",
    "If you are only interested in training the model using default parameters (i.e. only features from Hydra) you can do so by calling\n",
    "\n",
    "```shell\n",
    "python src/train_hydra_mr.py\n",
    "```\n",
    "\n",
    "This will train a model on 5 fold cross validation, saving the best model underway in ```models/```. Along with this, loss curves will be plotted underway, along with a final plot showing the average loss across all folds. These plots are saved in ```reports/figures/model_results```."
   ]
  },
  {
   "cell_type": "markdown",
   "metadata": {},
   "source": [
    "## Step 1 - Creating the datasets and dataloaders\n",
    "\n",
    "**File:** ```src/data/feature_dataloader.py```\n",
    "\n",
    "In the feature_dataloader.py the Features dataset is defined. This dataset can be used to easily load the extracted features from the features.hdf5 file. It is implemented as a standard torch dataset, meaning it works by iterating over the data via ```_getitem__```. It is structured similarly to the Platoon dataset, i.e. with indices pointing to the features in the training, validation and test sets, and then retrieving these when iterated over.\n",
    "\n",
    "To create a train and validation dataset over a specific fold, you can set the fold parameter. Below we create a train and val dataset over fold 1 using features from Hydra only.\n"
   ]
  },
  {
   "cell_type": "code",
   "execution_count": 10,
   "metadata": {},
   "outputs": [
    {
     "name": "stdout",
     "output_type": "stream",
     "text": [
      "Arguments: \n",
      "                     Data Path:             ../data/processed/features.hdf5 \n",
      "                     Data Type:             train \n",
      "                     Data length:           6550 \n",
      "                     Features selected:                      \n",
      "                         - Names:           ['HydraMV_8_64'] \n",
      "                         - KPI Window Size: 1 \n",
      "                     \n",
      "Arguments: \n",
      "                     Data Path:             ../data/processed/features.hdf5 \n",
      "                     Data Type:             val \n",
      "                     Data length:           1638 \n",
      "                     Features selected:                      \n",
      "                         - Names:           ['HydraMV_8_64'] \n",
      "                         - KPI Window Size: 1 \n",
      "                     \n"
     ]
    }
   ],
   "source": [
    "from src.data.feature_dataloader import Features\n",
    "\n",
    "# Create the dataset\n",
    "trainset = Features(data_path = '../data/processed/features.hdf5', \n",
    "                    data_type = 'train',\n",
    "                    feature_extractors = ['HydraMV_8_64'], \n",
    "                    name_identifier = '',\n",
    "                    kpi_window = 1,\n",
    "                    fold = 1,\n",
    "                    verbose = True)\n",
    "\n",
    "valset = Features(data_path = '../data/processed/features.hdf5', \n",
    "                    data_type = 'val',\n",
    "                    feature_extractors = ['HydraMV_8_64'], \n",
    "                    name_identifier = '',\n",
    "                    kpi_window = 1,\n",
    "                    fold = 1,\n",
    "                    verbose = True)"
   ]
  },
  {
   "cell_type": "markdown",
   "metadata": {},
   "source": [
    "## Step 2 - Training the model\n",
    "\n",
    "**File:** ```src/train_hydra_mr.py```\n",
    "\n",
    "The ```train_hydra_mr.py``` script trains the model across the defined folds. First we will demonstrate how to train the model over a single fold, and then extrapolate to all folds in the extracted features.\n",
    "\n",
    "#### ***Training over a single fold***\n",
    "\n",
    "We define a train function that takes a model as input, train and validation dataloaders, fold, number of epochs and learning rate.\n",
    "\n",
    "> **NOTE:** The function is setup to work with wandb for logging in ```train_hydra_mr.py```, but this can be disabled by simply calling ```wandb disabled``` in your console.\n",
    "\n",
    "***Imports***"
   ]
  },
  {
   "cell_type": "code",
   "execution_count": 23,
   "metadata": {},
   "outputs": [],
   "source": [
    "import os\n",
    "import torch\n",
    "import numpy as np\n",
    "import torch.nn as nn\n",
    "import time\n",
    "\n",
    "from tqdm import tqdm\n",
    "from argparse import ArgumentParser\n",
    "from matplotlib import pyplot as plt\n",
    "from torch.utils.data import DataLoader \n",
    "\n",
    "from src.util.utils import set_all_seeds\n",
    "from src.models.hydramr import HydraMRRegressor\n",
    "from src.data.feature_dataloader import Features\n",
    "\n",
    "# Set all seeds for reproducibility\n",
    "set_all_seeds(42)"
   ]
  },
  {
   "cell_type": "markdown",
   "metadata": {},
   "source": [
    "***Parameters that can be set via arguments***"
   ]
  },
  {
   "cell_type": "code",
   "execution_count": 24,
   "metadata": {},
   "outputs": [],
   "source": [
    "epochs = 50                                 # Number of epochs to train the model\n",
    "batch_size = 32                             # Batch size of the data\n",
    "lr = 1e-6                                   # Learning rate\n",
    "feature_extractors = ['HydraMV_8_64']       # Which features to use\n",
    "name_identifier = ''                        # Name identifier (for loading features)\n",
    "folds = 5                                   # Number of folds to train on for cross-validation\n",
    "model_name = 'HydraMRRegressor'             # Model name to use (currently only HydraMRRegressor is supported)\n",
    "weight_decay = 0.0                          # Weight decay of the optimizer (Adam)\n",
    "hidden_dim = 64                             # Hidden dimension size of the model\n",
    "project_name = 'wandb_test'                 # Project name for wandb (call wandb disabled to not use wandb, and wandb init to initialize)\n",
    "dropout = 0.5                               # Dropout between hidden dimensions\n",
    "model_depth = 0                             # Model depth (how many hidden layers)\n",
    "batch_norm = True                           # Whether to use batch normalization"
   ]
  },
  {
   "cell_type": "markdown",
   "metadata": {},
   "source": [
    "***Train function***"
   ]
  },
  {
   "cell_type": "code",
   "execution_count": 33,
   "metadata": {},
   "outputs": [],
   "source": [
    "def train(model: HydraMRRegressor, \n",
    "          train_loader: DataLoader, \n",
    "          val_loader: DataLoader,\n",
    "          fold: int,\n",
    "          epochs: int = 10, \n",
    "          lr: float = 0.001,\n",
    "          ):\n",
    "    \"\"\"Training loop for the Hydra-MR model.\n",
    "    \n",
    "    This function trains the Hydra-MR model using the provided training data and validation data loaders.\n",
    "    The model is trained for a specified number of epochs with a given learning rate.\n",
    "\n",
    "    The model is saved in the models directory with the name of the model along with the best model during training.\n",
    "    Training curves are saved in the reports/figures/model_results directory.\n",
    "    \n",
    "    Parameters:\n",
    "    ----------\n",
    "        model (HydraMRRegressor): The model to train.\n",
    "        train_loader (DataLoader): The training data loader.\n",
    "        val_loader (DataLoader): The validation data loader.\n",
    "        epochs (int, optional): Number of epochs to train. Defaults to 10.\n",
    "        fold (int): Which fold to train on (used for saving the model and plots)\n",
    "        lr (float, optional): Learning rate of the optimizer. Defaults to 0.001.\n",
    "    \"\"\"\n",
    "    \n",
    "    # Set device\n",
    "    device = torch.device(\"cuda\" if torch.cuda.is_available() else \"cpu\")\n",
    "    \n",
    "    # Set optimizer\n",
    "    optimizer = torch.optim.Adam(model.parameters(), lr=lr, weight_decay=weight_decay)\n",
    "    \n",
    "    # Set loss function\n",
    "    loss_fn = nn.MSELoss()\n",
    "\n",
    "    epoch_train_losses = []\n",
    "    epoch_val_losses = []\n",
    "    best_val_loss = np.inf\n",
    "    \n",
    "    # Iterate over segments of data (each segment is a time series where the minimum speed is above XX km/h)\n",
    "    for i, epoch in enumerate(range(epochs)):\n",
    "        start = time.time()\n",
    "        train_iterator = tqdm(train_loader, unit=\"batch\", position=0, leave=False)\n",
    "        model.train()\n",
    "        train_losses = []\n",
    "        for data, target in train_iterator:\n",
    "            data, target = data.to(device), target.to(device)\n",
    "            output = model(data)\n",
    "\n",
    "            loss = loss_fn(output, target)\n",
    "            train_losses.append(loss.item())\n",
    "            \n",
    "            optimizer.zero_grad()\n",
    "            loss.backward()\n",
    "            optimizer.step()\n",
    "            \n",
    "            if len(epoch_val_losses) > 0:\n",
    "                train_iterator.set_description(f\"Training Epoch {epoch+1}/{epochs}, Train loss: {loss.item():.3f}, Last epoch train loss: {epoch_train_losses[i-1]:.3f}, Last epoch val loss: {epoch_val_losses[i-1]:.3f}\")\n",
    "            else:\n",
    "                train_iterator.set_description(f\"Training Epoch {epoch+1}/{epochs}, Train loss: {loss.item():.3f}\")\n",
    "\n",
    "        mean_train_loss = np.mean(train_losses)\n",
    "        epoch_train_losses.append(mean_train_loss)\n",
    "        \n",
    "        val_iterator = tqdm(val_loader, unit=\"batch\", position=0, leave=False)\n",
    "        model.eval()\n",
    "        val_losses = []\n",
    "        for val_data, target in val_iterator:\n",
    "            val_data, target = val_data.to(device), target.to(device)\n",
    "            output = model(val_data)\n",
    "            val_loss = loss_fn(output, target)\n",
    "\n",
    "            val_losses.append(val_loss.item())\n",
    "            val_iterator.set_description(f\"Validating Epoch {epoch+1}/{epochs}, Train loss: {loss.item():.3f}, Last epoch train loss: {epoch_train_losses[i-1]:.3f}, Val loss: {val_loss:.3f}, Mean Val Loss: {np.mean(val_losses):.3f}\")\n",
    "        \n",
    "        # save best model\n",
    "        if np.mean(val_losses) < best_val_loss:\n",
    "            end = time.time()\n",
    "            best_val_loss = np.mean(val_losses)\n",
    "            torch.save(model.state_dict(), f'../models/best_{model.name}_{fold}.pt')\n",
    "            print(f\"Saving best model with mean val loss: {np.mean(val_losses):.3f} at epoch {epoch+1} ({end-start:.2f}s)\")\n",
    "            \n",
    "        mean_val_loss = np.mean(val_losses)\n",
    "        epoch_val_losses.append(mean_val_loss)\n",
    "\n",
    "        x = np.arange(1, epoch+2, step=1)\n",
    "        plt.plot(x, epoch_train_losses, label=\"Train loss\")\n",
    "        plt.plot(x, epoch_val_losses, label=\"Val loss\")\n",
    "        # plt.xticks(x)\n",
    "        plt.title('Loss per epoch')\n",
    "        plt.ylim(0, min(5, max(max(epoch_train_losses), max(epoch_val_losses))+1))\n",
    "        plt.ylabel('Loss')\n",
    "        plt.xlabel('Epoch')\n",
    "        plt.legend()\n",
    "        plt.grid()\n",
    "        plt.tight_layout()\n",
    "        os.makedirs(f'../reports/figures/model_results/{model.name}', exist_ok=True)\n",
    "        plt.savefig(f'../reports/figures/model_results/{model.name}/loss_{fold}.pdf')\n",
    "        plt.close()\n",
    "    \n",
    "    torch.save(model.state_dict(), f'../models/{model.name}.pt')\n",
    "\n",
    "    return epoch_train_losses, epoch_val_losses, best_val_loss"
   ]
  },
  {
   "cell_type": "markdown",
   "metadata": {},
   "source": [
    "***Training a model for one fold***\n",
    "\n",
    "Let us use the train and validation datasets we created earlier for fold 1 and train a model for 10 epochs."
   ]
  },
  {
   "cell_type": "code",
   "execution_count": 34,
   "metadata": {},
   "outputs": [
    {
     "name": "stderr",
     "output_type": "stream",
     "text": [
      "                                                                                                                                                                 \r"
     ]
    },
    {
     "name": "stdout",
     "output_type": "stream",
     "text": [
      "Saving best model with mean val loss: 1.069 at epoch 1 (6.61s)\n"
     ]
    },
    {
     "name": "stderr",
     "output_type": "stream",
     "text": [
      "                                                                                                                                                                 \r"
     ]
    },
    {
     "name": "stdout",
     "output_type": "stream",
     "text": [
      "Saving best model with mean val loss: 1.032 at epoch 2 (6.46s)\n"
     ]
    },
    {
     "name": "stderr",
     "output_type": "stream",
     "text": [
      "                                                                                                                                                                 \r"
     ]
    },
    {
     "name": "stdout",
     "output_type": "stream",
     "text": [
      "Saving best model with mean val loss: 1.015 at epoch 3 (6.52s)\n"
     ]
    },
    {
     "name": "stderr",
     "output_type": "stream",
     "text": [
      "                                                                                                                                                                 \r"
     ]
    },
    {
     "name": "stdout",
     "output_type": "stream",
     "text": [
      "Saving best model with mean val loss: 1.004 at epoch 4 (6.42s)\n"
     ]
    },
    {
     "name": "stderr",
     "output_type": "stream",
     "text": [
      "                                                                                                                                                                 \r"
     ]
    },
    {
     "name": "stdout",
     "output_type": "stream",
     "text": [
      "Saving best model with mean val loss: 0.991 at epoch 5 (6.33s)\n"
     ]
    },
    {
     "name": "stderr",
     "output_type": "stream",
     "text": [
      "                                                                                                                                                                 \r"
     ]
    },
    {
     "name": "stdout",
     "output_type": "stream",
     "text": [
      "Saving best model with mean val loss: 0.976 at epoch 6 (6.38s)\n"
     ]
    },
    {
     "name": "stderr",
     "output_type": "stream",
     "text": [
      "                                                                                                                                                                 \r"
     ]
    },
    {
     "name": "stdout",
     "output_type": "stream",
     "text": [
      "Saving best model with mean val loss: 0.973 at epoch 7 (6.39s)\n"
     ]
    },
    {
     "name": "stderr",
     "output_type": "stream",
     "text": [
      "                                                                                                                                                                 \r"
     ]
    },
    {
     "name": "stdout",
     "output_type": "stream",
     "text": [
      "Saving best model with mean val loss: 0.958 at epoch 8 (6.38s)\n"
     ]
    },
    {
     "name": "stderr",
     "output_type": "stream",
     "text": [
      "                                                                                                                                                                 \r"
     ]
    },
    {
     "name": "stdout",
     "output_type": "stream",
     "text": [
      "Saving best model with mean val loss: 0.952 at epoch 9 (6.38s)\n"
     ]
    },
    {
     "name": "stderr",
     "output_type": "stream",
     "text": [
      "                                                                                                                                                                  \r"
     ]
    },
    {
     "name": "stdout",
     "output_type": "stream",
     "text": [
      "Saving best model with mean val loss: 0.947 at epoch 10 (6.34s)\n",
      "Best validation loss: 0.947\n"
     ]
    },
    {
     "data": {
      "image/png": "[encoded data removed]",
      "text/plain": [
       "<Figure size 640x480 with 1 Axes>"
      ]
     },
     "metadata": {},
     "output_type": "display_data"
    }
   ],
   "source": [
    "# Set device for gpu training if possible\n",
    "device = torch.device(\"cuda\" if torch.cuda.is_available() else \"cpu\")\n",
    "\n",
    "# Setup the dataloaders to iterate over the features\n",
    "train_loader = DataLoader(trainset, batch_size=batch_size, shuffle=True)\n",
    "val_loader = DataLoader(valset, batch_size=batch_size, shuffle=False)\n",
    "\n",
    "# Get the input shape\n",
    "input_shape, target_shape = trainset.get_data_shape()\n",
    "\n",
    "# Initialize the model\n",
    "model = HydraMRRegressor(in_features=input_shape[0], \n",
    "                         out_features=target_shape[0], \n",
    "                         hidden_dim=hidden_dim, \n",
    "                         model_depth=model_depth, \n",
    "                         dropout=dropout, \n",
    "                         batch_norm=batch_norm).to(device)\n",
    "\n",
    "# Train the model for 10 epochs\n",
    "train_losses, val_losses, best_val_loss = train(model=model, train_loader=train_loader, val_loader=val_loader, fold=1, epochs=10, lr=lr)\n",
    "\n",
    "# Print the best validation loss\n",
    "print(f\"Best validation loss: {best_val_loss:.3f}\")\n",
    "\n",
    "# Plot the training and validation losses\n",
    "plt.plot(train_losses, label=\"Train loss\")\n",
    "plt.plot(val_losses, label=\"Val loss\")\n",
    "plt.title('Loss per epoch')\n",
    "plt.ylabel('Loss')\n",
    "plt.xlabel('Epoch')\n",
    "plt.legend()\n",
    "plt.grid()\n",
    "plt.tight_layout()\n",
    "plt.show()"
   ]
  },
  {
   "cell_type": "markdown",
   "metadata": {},
   "source": [
    "#### ***Training over all 5 folds***\n",
    "\n",
    "We now expand the training functionality to train on 5 fold cross validation (which we acquired during feature extraction)."
   ]
  },
  {
   "cell_type": "code",
   "execution_count": null,
   "metadata": {},
   "outputs": [],
   "source": [
    "# Set epochs to allow for faster training\n",
    "epochs = 5\n",
    "\n",
    "# Set device\n",
    "device = torch.device(\"cuda\" if torch.cuda.is_available() else \"cpu\")\n",
    "\n",
    "# Variables to hold the losses\n",
    "train_losses = []\n",
    "val_losses = []\n",
    "best_val_losses = []\n",
    "\n",
    "for fold in range(folds):\n",
    "   print(f\"Training fold {fold+1}/{folds}\")\n",
    "   \n",
    "   # Create dataset over the given fold\n",
    "   trainset = Features(data_path='../data/processed/features.hdf5', data_type='train', feature_extractors=feature_extractors, name_identifier=name_identifier, fold=fold, verbose=False)\n",
    "   valset = Features(data_path='../data/processed/features.hdf5', data_type='val', feature_extractors=feature_extractors, name_identifier=name_identifier, fold=fold, verbose=False)\n",
    "   \n",
    "   train_loader = DataLoader(trainset, batch_size=batch_size, shuffle=True, num_workers=0)\n",
    "   val_loader = DataLoader(valset, batch_size=batch_size, shuffle=True, num_workers=0)\n",
    "   \n",
    "   input_shape, target_shape = trainset.get_data_shape()\n",
    "   \n",
    "   # Create model\n",
    "   # As a baseline, MultiRocket_50000 will output 49728 features, Hydra_8_64 will output 5120 features, and there are 4 KPIs (targets)\n",
    "   model = HydraMRRegressor(in_features=input_shape[0], \n",
    "                           out_features=target_shape[0], \n",
    "                           hidden_dim=hidden_dim, \n",
    "                           dropout=dropout,\n",
    "                           name=model_name,\n",
    "                           model_depth=model_depth,\n",
    "                           batch_norm=batch_norm\n",
    "                           ).to(device)\n",
    "   \n",
    "   # Train\n",
    "   k_fold_train_losses, k_fold_val_losses, best_val_loss = train(model=model, train_loader=train_loader, val_loader=val_loader, fold=fold, epochs=epochs, lr=lr)\n",
    "\n",
    "   train_losses.append(k_fold_train_losses)\n",
    "   val_losses.append(k_fold_val_losses)\n",
    "   best_val_losses.append(best_val_loss)\n",
    "   \n",
    "mean_best_val_loss = np.mean(best_val_losses)\n",
    "std_best_val_loss = np.std(best_val_losses)\n",
    "print(f\"Mean best validation loss: {mean_best_val_loss:.3f}\")\n",
    "print(f\"Standard deviation of best validation loss: {std_best_val_loss:.3f}\")\n",
    "\n",
    "# plot training curves\n",
    "for i in range(folds):\n",
    "   x = np.arange(1, epochs+1, step=1)\n",
    "   plt.plot(x, train_losses[i], c=\"b\", alpha=0.2)\n",
    "   plt.plot(x, val_losses[i], linestyle='--', c=\"r\", alpha=0.2)\n",
    "\n",
    "plt.plot(x, np.mean(train_losses, axis=0), label=\"Train loss\", c=\"b\")\n",
    "plt.plot(x, np.mean(val_losses, axis=0), label=\"Val loss\", c=\"r\", linestyle='--')\n",
    "plt.ylim(0, min(7, max(np.max(train_losses), np.max(val_losses))+0.2))\n",
    "plt.title('Loss per epoch')\n",
    "plt.ylabel('Loss')\n",
    "plt.xlabel('Epoch')\n",
    "plt.legend()\n",
    "plt.grid()\n",
    "plt.tight_layout()\n",
    "os.makedirs(f'../reports/figures/model_results/{model.name}', exist_ok=True)\n",
    "plt.savefig(f'../reports/figures/model_results/{model.name}/loss_combined.pdf')\n",
    "plt.plot()"
   ]
  }
 ],
 "metadata": {
  "kernelspec": {
   "display_name": "fleetenv",
   "language": "python",
   "name": "python3"
  },
  "language_info": {
   "codemirror_mode": {
    "name": "ipython",
    "version": 3
   },
   "file_extension": ".py",
   "mimetype": "text/x-python",
   "name": "python",
   "nbconvert_exporter": "python",
   "pygments_lexer": "ipython3",
   "version": "3.11.8"
  }
 },
 "nbformat": 4,
 "nbformat_minor": 2
}
