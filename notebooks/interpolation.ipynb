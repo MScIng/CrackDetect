{
 "cells": [
  {
   "cell_type": "markdown",
   "metadata": {},
   "source": [
    "# Interpolate everyting!"
   ]
  },
  {
   "cell_type": "code",
   "execution_count": 57,
   "metadata": {},
   "outputs": [],
   "source": [
    "import numpy as np\n",
    "import pandas as pd\n",
    "import matplotlib.pyplot as plt\n",
    "import matplotlib.animation as animation\n",
    "from matplotlib import cm\n",
    "import h5py\n",
    "from scipy.interpolate import CubicSpline"
   ]
  },
  {
   "cell_type": "code",
   "execution_count": 58,
   "metadata": {},
   "outputs": [],
   "source": [
    "def unpack_hdf5(hdf5_file):\n",
    "    with h5py.File(hdf5_file, 'r') as f:\n",
    "        data = unpack_hdf5_(f)\n",
    "    return data\n",
    "\n",
    "def unpack_hdf5_(group):\n",
    "    data = {}\n",
    "    for key in group.keys():\n",
    "        if isinstance(group[key], h5py.Group):\n",
    "            data[key] = unpack_hdf5_(group[key])\n",
    "        else:\n",
    "            data[key] = group[key][()]\n",
    "    return data"
   ]
  },
  {
   "cell_type": "code",
   "execution_count": 59,
   "metadata": {},
   "outputs": [],
   "source": [
    "# Load ground truth data\n",
    "\n",
    "aran_hh = pd.read_csv('../data/raw/ref_data/cph1_aran_hh.csv', sep=';', encoding='unicode_escape')\n",
    "aran_vh = pd.read_csv('../data/raw/ref_data/cph1_aran_vh.csv', sep=';', encoding='unicode_escape')\n",
    "\n",
    "fric_hh = pd.read_csv('../data/raw/ref_data/cph1_fric_hh.csv', sep=';', encoding='unicode_escape')\n",
    "fric_vh = pd.read_csv('../data/raw/ref_data/cph1_fric_vh.csv', sep=';', encoding='unicode_escape')\n",
    "\n",
    "p79_hh = pd.read_csv('../data/raw/ref_data/cph1_zp_hh.csv', sep=';', encoding='unicode_escape')\n",
    "p79_vh = pd.read_csv('../data/raw/ref_data/cph1_zp_vh.csv', sep=';', encoding='unicode_escape')\n",
    "\n",
    "mpd_hh = pd.read_csv('../data/raw/ref_data/cph1_iri_mpd_rut_hh.csv', sep=';', encoding='unicode_escape')\n",
    "mpd_vh = pd.read_csv('../data/raw/ref_data/cph1_iri_mpd_rut_vh.csv', sep=';', encoding='unicode_escape')"
   ]
  },
  {
   "cell_type": "code",
   "execution_count": 60,
   "metadata": {},
   "outputs": [],
   "source": [
    "autopi_hh = unpack_hdf5('../data/raw/AutoPi_CAN/platoon_CPH1_HH.hdf5')\n",
    "autopi_vh = unpack_hdf5('../data/raw/AutoPi_CAN/platoon_CPH1_VH.hdf5')"
   ]
  },
  {
   "cell_type": "markdown",
   "metadata": {},
   "source": [
    "Since all sensors and measurements are recorded at different rates, the data is not aligned in time. Hence we create time-aligned data by interpolating each attribute.\n",
    "\n",
    "Since the ground truth data contains data from a much larger trip, we first need to cut out the section of the trip which corresponds to the training data from autopi."
   ]
  },
  {
   "cell_type": "code",
   "execution_count": 61,
   "metadata": {},
   "outputs": [],
   "source": [
    "def find_best_start_and_end_indeces(trip: np.ndarray, section: np.ndarray, kind=\"l1\"):\n",
    "    # Find the start and end indeces of the section data that are closest to the trip data\n",
    "    lon_a, lat_a = trip[:,0], trip[:,1]\n",
    "    lon_b, lat_b = section[:,0], section[:,1]\n",
    "    if kind == \"l1\":\n",
    "        start_index = np.argmin(np.abs(lon_a - lon_b[0]) + np.abs(lat_a - lat_b[0]))\n",
    "        end_index = np.argmin(np.abs(lon_a - lon_b[-1]) + np.abs(lat_a - lat_b[-1]))\n",
    "    elif kind == \"l2\":\n",
    "        start_index = np.argmin(np.sqrt((lon_a - lon_b[0])**2 + (lat_a - lat_b[0])**2))\n",
    "        end_index = np.argmin(np.sqrt((lon_a - lon_b[-1])**2 + (lat_a - lat_b[-1])**2))\n",
    "\n",
    "    return start_index, end_index"
   ]
  },
  {
   "cell_type": "code",
   "execution_count": 62,
   "metadata": {},
   "outputs": [],
   "source": [
    "def interpolate(x: np.ndarray, y: np.ndarray, kind=\"cubic\"):\n",
    "    # Interpolate data to match the time\n",
    "    match kind:\n",
    "        case \"cubic\":\n",
    "            f = CubicSpline(x, y)\n",
    "        case _:\n",
    "            raise ValueError(f\"Interpolation method {kind} not supported\")\n",
    "    return f"
   ]
  },
  {
   "cell_type": "code",
   "execution_count": 63,
   "metadata": {},
   "outputs": [],
   "source": [
    "def cut_dataframe_by_indeces(df, start, end):\n",
    "    return df.iloc[start:end]"
   ]
  },
  {
   "cell_type": "markdown",
   "metadata": {},
   "source": [
    "First (a little crude) cut the sections of the ground truth by the sections found in the autopi dataset."
   ]
  },
  {
   "cell_type": "code",
   "execution_count": 64,
   "metadata": {},
   "outputs": [],
   "source": [
    "cut_aran_hh = cut_dataframe_by_indeces(\n",
    "    aran_hh, *find_best_start_and_end_indeces(\n",
    "        aran_hh[[\"Lon\", \"Lat\"]].values,\n",
    "        autopi_hh[\"aran\"]['trip_1']['pass_1'][\"GPS\"][:, ::-1]\n",
    "    )\n",
    ")\n",
    "cut_aran_vh = cut_dataframe_by_indeces(\n",
    "    aran_vh, *find_best_start_and_end_indeces(\n",
    "        aran_vh[[\"Lon\", \"Lat\"]].values,\n",
    "        autopi_vh[\"aran\"]['trip_1']['pass_1'][\"GPS\"][:, ::-1]\n",
    "    )\n",
    ")\n",
    "\n",
    "cut_p79_hh = cut_dataframe_by_indeces(\n",
    "    p79_hh, *find_best_start_and_end_indeces(\n",
    "        p79_hh[[\"Lon\", \"Lat\"]].values,\n",
    "        autopi_hh[\"p79\"]['trip_1']['pass_1'][\"GPS\"][:, ::-1]\n",
    "    )\n",
    ")\n",
    "cut_p79_vh = cut_dataframe_by_indeces(\n",
    "    p79_vh, *find_best_start_and_end_indeces(\n",
    "        p79_vh[[\"Lon\", \"Lat\"]].values,\n",
    "        autopi_vh[\"p79\"]['trip_1']['pass_1'][\"GPS\"][:, ::-1]\n",
    "    )\n",
    ")"
   ]
  },
  {
   "cell_type": "code",
   "execution_count": 99,
   "metadata": {},
   "outputs": [],
   "source": [
    "class InterpolationClass:\n",
    "\n",
    "    def interpolate(self, x: np.ndarray, y: np.ndarray, kind=\"cubic\"):\n",
    "        # Interpolate data to match the time\n",
    "        match kind:\n",
    "            case \"cubic\":\n",
    "                f = CubicSpline(x, y)\n",
    "            case _:\n",
    "                raise ValueError(f\"Interpolation method {kind} not supported\")\n",
    "        return f\n",
    "\n",
    "    def normalise(self, column):\n",
    "        return (column - column.min()) / (column.max() - column.min())\n",
    "\n",
    "class InterpolateP79(InterpolationClass):\n",
    "    laser_columns = (f\" Laser {i} [mm]\" for i in range(1, 26))\n",
    "\n",
    "    def __init__(self, df: pd.DataFrame, kind=\"cubic\"):\n",
    "        self.df = df\n",
    "        self.kind = kind\n",
    "        \n",
    "        self.lasers = self.interpolate(self.normalise(df[\"Distance [m]\"]), df[self.laser_columns], kind=kind)\n",
    "        self.gps = self.interpolate(self.normalise(df[\"Distance [m]\"]), df[[\"Lon\", \"Lat\"]], kind=kind)\n",
    "\n",
    "\n",
    "class InterpolateAutopiPass(InterpolationClass):\n",
    "\n",
    "    def __init__(self, data: dict, kind=\"cubic\"):\n",
    "        self.data = data\n",
    "        self.kind = kind\n",
    "        \n",
    "        self.gps = self.interpolate(self.normalise(data[\"gps\"][:, 0]), data[\"gps\"][:, 1:], kind=kind)\n",
    "\n",
    "\n",
    "class InterpolateAutopi:\n",
    "\n",
    "    def __init__(self, data: dict, kind=\"cubic\"):\n",
    "        self.data = data\n",
    "        self.kind = kind\n",
    "\n",
    "        # self.lasers = self.interpolate(data[\"Distance\"], data[\"Laser\"], kind=kind)\n",
    "        self.passes = {}\n",
    "        for trip_name, trip in data.items():\n",
    "            self.passes[trip_name] = {}\n",
    "            for pass_name, pass_ in trip.items():\n",
    "                self.passes[trip_name][pass_name] = InterpolateAutopiPass(pass_, kind=kind)\n",
    "    \n",
    "    def __getitem__(self, key):\n",
    "        return self.passes[key[0]][key[1]]"
   ]
  },
  {
   "cell_type": "code",
   "execution_count": 100,
   "metadata": {},
   "outputs": [],
   "source": [
    "# Interpolate P79 laser data to match with the corresponding distance measurements\n",
    "p79_hh_interp = InterpolateP79(cut_p79_hh)\n",
    "\n",
    "# Interpolate AutoPi data to match with the corresponding time measurements\n",
    "autopi_hh_interp = InterpolateAutopi(autopi_hh['GM'])"
   ]
  },
  {
   "cell_type": "code",
   "execution_count": 122,
   "metadata": {},
   "outputs": [
    {
     "data": {
      "image/png": "[encoded data removed]",
      "text/plain": [
       "<Figure size 640x480 with 1 Axes>"
      ]
     },
     "metadata": {},
     "output_type": "display_data"
    }
   ],
   "source": [
    "t = np.linspace(0, 1, 500)\n",
    "gps_p79 = p79_hh_interp.gps(t)\n",
    "gps_autopi = autopi_hh_interp['16006', 'pass_15'].gps(t)\n",
    "\n",
    "fig, ax = plt.subplots()\n",
    "ax.plot(gps_p79[:,0], gps_p79[:,1], label=\"P79 GPS\", alpha=0.5)\n",
    "ax.plot(gps_autopi[:,1], gps_autopi[:,0], label=\"AutoPi GPS\", alpha=0.5)\n",
    "#ax.plot(cut_p79_hh[\"Lon\"], cut_p79_hh[\"Lat\"], label=\"Original GPS\", alpha=0.5)\n",
    "ax.legend()\n",
    "plt.show()\n"
   ]
  },
  {
   "cell_type": "code",
   "execution_count": null,
   "metadata": {},
   "outputs": [],
   "source": []
  }
 ],
 "metadata": {
  "kernelspec": {
   "display_name": "Python 3",
   "language": "python",
   "name": "python3"
  },
  "language_info": {
   "codemirror_mode": {
    "name": "ipython",
    "version": 3
   },
   "file_extension": ".py",
   "mimetype": "text/x-python",
   "name": "python",
   "nbconvert_exporter": "python",
   "pygments_lexer": "ipython3",
   "version": "3.10.9"
  }
 },
 "nbformat": 4,
 "nbformat_minor": 2
}
