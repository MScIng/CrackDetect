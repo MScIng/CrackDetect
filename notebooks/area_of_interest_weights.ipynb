{
 "cells": [
  {
   "cell_type": "markdown",
   "metadata": {},
   "source": [
    "#### After mapping each AOI to 2 time windows for each car, we will predict the KPI of the AOI\n",
    "\n",
    "There are in total 1226 AOIs for HH and 940 for VH.\n",
    "\n",
    "We have X windows for each AOI based on the filter. \n",
    "\n",
    "The weights should be found based on the Two closest points, and the avg. speed that it has at these two points.\n",
    "\n",
    "The logic is that there are always(*) a second on each side of the AOI. By using the distance and the speed, one can determine \n",
    "\n",
    "1 and 1,1\n",
    "\n",
    "Total distance from \n",
    "\n",
    "or 1 and 2\n",
    "\n",
    "(*) If the speed differs alot between the seconds they could both be on the same side, but that seems to be very unlikely. "
   ]
  },
  {
   "cell_type": "code",
   "execution_count": null,
   "metadata": {},
   "outputs": [],
   "source": [
    "def time_to_drive_X_meters(speed_kmh, distance_m=10):\n",
    "    # Convert speed from km/h to m/s\n",
    "    speed_ms = speed_kmh * (1000 / 3600)\n",
    "\n",
    "    # Calculate time in seconds\n",
    "    time_seconds = distance_m / speed_ms\n",
    "    \n",
    "    return time_seconds"
   ]
  }
 ],
 "metadata": {
  "language_info": {
   "name": "python"
  }
 },
 "nbformat": 4,
 "nbformat_minor": 2
}
