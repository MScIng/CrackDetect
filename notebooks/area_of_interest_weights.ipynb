{
 "cells": [
  {
   "cell_type": "markdown",
   "metadata": {},
   "source": [
    "#### After mapping each AOI to 2 time windows for each car, we will predict the KPI of the AOI\n",
    "\n",
    "There are in total 1226 AOIs for HH and 940 for VH.\n",
    "\n",
    "We have X windows for each AOI based on the filter. \n",
    "\n",
    "The weights should be found based on the Two closest points, and the avg. speed that it has at these two points.\n",
    "\n",
    "The logic is that there are always(*) a second on each side of the AOI. By using the distance and the speed, one can determine \n",
    "\n",
    "1 and 1,1\n",
    "\n",
    "Total distance from \n",
    "\n",
    "or 1 and 2\n",
    "\n",
    "(*) If the speed differs alot between the seconds they could both be on the same side, but that seems to be very unlikely. "
   ]
  },
  {
   "cell_type": "code",
   "execution_count": 3,
   "metadata": {},
   "outputs": [],
   "source": [
    "import numpy as np\n",
    "import pandas as pd\n",
    "import matplotlib.pyplot as plt\n",
    "import matplotlib.animation as animation\n",
    "from matplotlib import cm\n",
    "import h5py\n",
    "from scipy.interpolate import CubicSpline\n",
    "from copy import deepcopy\n",
    "from tqdm import tqdm\n",
    "import re\n",
    "import csv\n",
    "from pathlib import Path"
   ]
  },
  {
   "cell_type": "code",
   "execution_count": 8,
   "metadata": {},
   "outputs": [
    {
     "ename": "AttributeError",
     "evalue": "'str' object has no attribute 'decode'",
     "output_type": "error",
     "traceback": [
      "\u001b[0;31m---------------------------------------------------------------------------\u001b[0m",
      "\u001b[0;31mAttributeError\u001b[0m                            Traceback (most recent call last)",
      "Cell \u001b[0;32mIn[8], line 4\u001b[0m\n\u001b[1;32m      1\u001b[0m trip \u001b[38;5;241m=\u001b[39m np\u001b[38;5;241m.\u001b[39marray([\u001b[38;5;124m\"\u001b[39m\u001b[38;5;124m1.0\u001b[39m\u001b[38;5;124m\"\u001b[39m, \u001b[38;5;124m\"\u001b[39m\u001b[38;5;124m2.0\u001b[39m\u001b[38;5;124m\"\u001b[39m, \u001b[38;5;124m\"\u001b[39m\u001b[38;5;124m3.0\u001b[39m\u001b[38;5;124m\"\u001b[39m, \u001b[38;5;124m\"\u001b[39m\u001b[38;5;124m7.63\u001b[39m\u001b[38;5;124m\"\u001b[39m], dtype\u001b[38;5;241m=\u001b[39m\u001b[38;5;28mobject\u001b[39m)\n\u001b[1;32m      3\u001b[0m \u001b[38;5;28;01mfor\u001b[39;00m idx, item \u001b[38;5;129;01min\u001b[39;00m \u001b[38;5;28menumerate\u001b[39m(trip):\n\u001b[0;32m----> 4\u001b[0m     item \u001b[38;5;241m=\u001b[39m \u001b[43mitem\u001b[49m\u001b[38;5;241;43m.\u001b[39;49m\u001b[43mdecode\u001b[49m(\u001b[38;5;124m'\u001b[39m\u001b[38;5;124mutf-8\u001b[39m\u001b[38;5;124m'\u001b[39m)\n\u001b[1;32m      5\u001b[0m     new_item \u001b[38;5;241m=\u001b[39m \u001b[38;5;28mint\u001b[39m(item)\n",
      "\u001b[0;31mAttributeError\u001b[0m: 'str' object has no attribute 'decode'"
     ]
    }
   ],
   "source": [
    "trip = np.array([\"1.0\", \"2.0\", \"3.0\", \"7.63\"], dtype=object)\n",
    "\n",
    "for idx, item in enumerate(trip):\n",
    "    item = item.decode('utf-8')\n",
    "    new_item = int(item)\n"
   ]
  },
  {
   "cell_type": "code",
   "execution_count": 4,
   "metadata": {},
   "outputs": [
    {
     "data": {
      "text/plain": [
       "array(['a', 'b', 'c', 7.63], dtype=object)"
      ]
     },
     "execution_count": 4,
     "metadata": {},
     "output_type": "execute_result"
    }
   ],
   "source": [
    "x = np.array([\"a\", \"b\", \"c\", \"7.63\"], dtype=object)\n",
    "\n",
    "# Replace the specific element with a float\n",
    "x[3] = float(x[3])\n",
    "x"
   ]
  },
  {
   "cell_type": "code",
   "execution_count": 3,
   "metadata": {},
   "outputs": [],
   "source": [
    "import h5py\n",
    "\n",
    "def load_from_hdf5(filename):\n",
    "\n",
    "    def unpack_group(group):\n",
    "        unpacked_data = {}\n",
    "        for key, item in group.items():\n",
    "            if isinstance(item, h5py.Group):\n",
    "                unpacked_data[key] = unpack_group(item)\n",
    "            else:\n",
    "                unpacked_data[key] = item[:].tolist()  # Convert dataset to list\n",
    "        return unpacked_data\n",
    "\n",
    "    with h5py.File(filename, 'r') as hdf_file:\n",
    "        loaded_mapping = unpack_group(hdf_file)\n",
    "    \n",
    "    return loaded_mapping\n",
    "\n",
    "# Takes about 40 seconds to load\n",
    "h5py_mapping_hh = load_from_hdf5(\"../data/AOI/mapping_hh_time_to_location.hdf5\")\n",
    "h5py_mapping_vh = load_from_hdf5(\"../data/AOI/mapping_hh_time_to_location.hdf5\")\n"
   ]
  },
  {
   "cell_type": "code",
   "execution_count": 26,
   "metadata": {},
   "outputs": [],
   "source": [
    "\n"
   ]
  },
  {
   "cell_type": "code",
   "execution_count": null,
   "metadata": {},
   "outputs": [],
   "source": []
  },
  {
   "cell_type": "code",
   "execution_count": 8,
   "metadata": {},
   "outputs": [],
   "source": [
    "def get_total_distance(data):\n",
    "    first_values = []\n",
    "\n",
    "    for trip_name, passes in data.items():\n",
    "        for pass_name, segments in passes.items():\n",
    "            for segment_name, values in segments.items():\n",
    "                if segment_name in ['distance_segment_second_1', 'distance_segment_second_2']:\n",
    "                    # Extract the first value and add to the list\n",
    "                    first_values.append(values[0])\n",
    "\n",
    "    total_distance = np.sum(first_values)\n",
    "    return total_distance\n",
    "\n",
    "\n",
    "def time_to_drive_X_meters(speed_kmh, distance_m=10):\n",
    "    # Convert speed from km/h to m/s\n",
    "    speed_ms = speed_kmh * (1000 / 3600)\n",
    "\n",
    "    # Calculate time in seconds\n",
    "    time_seconds = distance_m / speed_ms\n",
    "    \n",
    "    return time_seconds\n",
    "\n",
    "\n",
    "# Weight functions \n",
    "def ln_of_ratio_sum_to_1(values):\n",
    "    values_total = np.sum(values)\n",
    "    weight_values = -np.log(values / values_total)\n",
    "    total = np.sum(weight_values)\n",
    "    weight_values_1 = weight_values / total\n",
    "    return weight_values_1\n",
    "\n",
    "\n",
    "def inverse_of_ratio_sum_to_1(values):\n",
    "    values_total = np.sum(values)\n",
    "    weight_values = (values / values_total)**(-1)\n",
    "    total = np.sum(weight_values)\n",
    "    weight_values_1 = weight_values / total\n",
    "    return weight_values_1\n",
    "\n"
   ]
  },
  {
   "cell_type": "code",
   "execution_count": 33,
   "metadata": {},
   "outputs": [
    {
     "name": "stdout",
     "output_type": "stream",
     "text": [
      "[2.540231352824462e-05, 8.632562717940327e-05, 5.928268992285774e-05, 3.743649471121573e-05, 3.761562002457572e-05, 6.696434950771082e-05, 9.429546881253799e-05, 2.1146310142677474e-05, 8.801178253613132e-05, 3.906145347968156e-05, 5.4721685698429826e-05, 5.108344038156179e-05, 6.696555831254422e-05, 4.3119168125896057e-05, 5.046870808750601e-05, 1.4847958831495672e-05, 4.214348501620518e-05, 6.117891089454114e-05, 7.55634327034363e-05, 3.5240022653215575e-05, 6.374089683910665e-05, 3.79892879657307e-05, 5.76945331131384e-05, 4.8893849801930886e-05, 7.181647401909915e-05, 1.4249306321962006e-05, 3.871497916288721e-05, 3.449529934849564e-05, 4.20503636108622e-05, 1.1988063861835858e-05, 9.316923197065222e-05, 4.715698446513804e-05, 7.602746033591527e-05, 1.6457634408877064e-05, 4.124903722339637e-05, 1.4589642162581957e-05, 3.474366787991113e-05, 4.592517960614626e-09, 4.003571301966519e-05, 5.691958132192554e-05, 6.081587477808251e-05, 2.093077968852202e-05, 4.246165975362833e-05, 3.4068144688721324e-05, 3.4195368993238796e-05, 5.7036498402453234e-05, 7.23268953688765e-05, 1.5544130670844095e-05, 8.529788061143918e-05, 1.765642375307956e-05, 7.534331877621483e-05, 2.5402512158127935e-05, 5.796893486719251e-05, 3.4346157198829115e-05, 5.5557439942637425e-05, 7.628007722434272e-06, 3.586529458102173e-05, 3.7079460842690176e-05, 6.149092136290707e-05, 2.0625100932834417e-05, 2.69862910536079e-05, 6.106087023458057e-05, 7.889741184430291e-05, 4.651447114715229e-05, 4.684003489452796e-05, 5.278865617594783e-06, 4.8903205822395195e-05, 2.963022190194046e-05, 4.057189728598664e-05, 3.5575512919488604e-05, 5.5947425241428284e-05, 3.0272593266930798e-05, 6.377276446790133e-05]\n"
     ]
    }
   ],
   "source": [
    "distances_for_9 =[]\n",
    "for key in h5py_mapping_hh[\"9\"]:\n",
    "    for trip in h5py_mapping_hh[\"9\"][key]:\n",
    "        for x in h5py_mapping_hh[\"9\"][key][trip]:\n",
    "            distances_for_9.append(h5py_mapping_hh[\"9\"][key][trip][x][0])\n",
    "\n",
    "print(distances_for_9)"
   ]
  },
  {
   "cell_type": "code",
   "execution_count": 35,
   "metadata": {},
   "outputs": [
    {
     "name": "stdout",
     "output_type": "stream",
     "text": [
      "[0.010739603564782837, 0.010775854535641212, 0.010947662710957907, 0.011006023980421194, 0.011042158196934085, 0.011277487163175183, 0.01138927827833483, 0.011407748677380551, 0.0114165499069709, 0.011539821782041963, 0.01156118861561933, 0.011772183358522727, 0.011772237819171171, 0.011919570134219728, 0.011921078119953651, 0.012029499273688774, 0.012044846734058838, 0.012050673443883716, 0.012062802917620371, 0.012139837279223565, 0.012207448362752029, 0.012221763505341142, 0.012256371533610247, 0.012262562305534597, 0.012314536039642486, 0.012335639825906327, 0.012381369465790711, 0.012588937618441964, 0.012625463979491576, 0.012720531062548952, 0.012721108320036454, 0.012830231380947084, 0.012850577515929154, 0.012871620469845961, 0.013100295923478906, 0.013146655294934355, 0.013169347419500571, 0.013176021224707688, 0.013234068943069879, 0.013284006592812696, 0.013324143935390161, 0.013398469787270764, 0.013425349838397304, 0.013482438449653933, 0.0135122609173096, 0.013526662129321057, 0.013555573431578058, 0.013656018447348145, 0.013680493921581337, 0.013709080279003465, 0.013751876639197658, 0.013773521362628266, 0.013786593759293447, 0.013799868269117886, 0.013811113959950631, 0.014167481035429053, 0.014232189303862107, 0.014514175055932095, 0.01469664553879464, 0.01469666912965674, 0.015249909554516139, 0.015280817556915523, 0.015325203432358998, 0.0157940716536532, 0.01600619698757766, 0.01617848639927599, 0.016316727141801764, 0.016369677067471628, 0.016440888974842617, 0.01696221542956805, 0.018326151696015217, 0.019436753217614094, 0.040697612420747604]\n",
      "[4.8211580995944913e-05, 4.879436629506917e-05, 5.165369341701445e-05, 5.2662619209918134e-05, 5.329714641932848e-05, 5.762082083475271e-05, 5.979594230979048e-05, 6.016314332950541e-05, 6.0338908692212334e-05, 6.285536810366882e-05, 6.330210016990332e-05, 6.788763876183014e-05, 6.788886423339025e-05, 7.128644445850348e-05, 7.13220845273251e-05, 7.393178588715408e-05, 7.430883560583152e-05, 7.445248675200938e-05, 7.475241700945917e-05, 7.668568410309958e-05, 7.842361848844589e-05, 7.879661012753759e-05, 7.970569301306787e-05, 7.986941447257438e-05, 8.125724486137613e-05, 8.182762987099689e-05, 8.307736821668707e-05, 8.899427286512928e-05, 9.007826442325182e-05, 9.296187347546803e-05, 9.297966207657349e-05, 9.640424814625531e-05, 9.705658081688088e-05, 9.77358985298191e-05, 0.00010543184921686846, 0.00010706443550685294, 0.00010787275021176288, 0.00010811163666208924, 0.00011021187252408685, 0.00011205129501736387, 0.00011355195872178556, 0.00011638413902265613, 0.0001174257026738702, 0.00011966882970555385, 0.00012085760195461648, 0.00012143587874011831, 0.00012260517086516636, 0.00012675578676584688, 0.00012778828073384876, 0.00012900484420634868, 0.0001308478324142299, 0.00013178994582067695, 0.0001323622204920571, 0.000132945886125842, 0.00013344236012098794, 0.00015017324720483668, 0.00015342894316659002, 0.00016846085381557033, 0.00017896393883829584, 0.00017896533822210585, 0.00021498472317547587, 0.00021719848471288787, 0.00022041752168926325, 0.0002574776011146287, 0.0002762325082245198, 0.00029246625163370456, 0.00030617902997972753, 0.00031160007775007253, 0.00031904245227709513, 0.00037922167287404463, 0.000595979159648189, 0.00086119518122487, 0.9899000224264458]\n"
     ]
    }
   ],
   "source": [
    "ln_weights = ln_of_ratio_sum_to_1(distances_for_9)\n",
    "inv_weights = inverse_of_ratio_sum_to_1(distances_for_9)\n",
    "\n",
    "# print the sorted weights\n",
    "print(sorted(ln_weights))\n",
    "print(sorted(inv_weights))"
   ]
  },
  {
   "cell_type": "code",
   "execution_count": 37,
   "metadata": {},
   "outputs": [
    {
     "name": "stdout",
     "output_type": "stream",
     "text": [
      "[0.52247055 0.29016754 0.1873619 ]\n",
      "[0.58050008 0.2486459  0.17085402]\n"
     ]
    }
   ],
   "source": [
    "test = np.array([2.54e-05, 5.93e-05, 8.63e-05])\n",
    "\n",
    "print(ln_of_ratio_sum_to_1(test))\n",
    "print(inverse_of_ratio_sum_to_1(test))\n",
    "\n"
   ]
  },
  {
   "cell_type": "code",
   "execution_count": 12,
   "metadata": {},
   "outputs": [
    {
     "name": "stdout",
     "output_type": "stream",
     "text": [
      "{'pass_1': {'distance_segment_second_1': [2.3317746094376914e-05, 0.0, 0.0], 'distance_segment_second_2': [3.658563558098666e-05, 0.0, 1.0]}, 'pass_11': {'distance_segment_second_1': [6.483034333046726e-05, 2.0, 2.0], 'distance_segment_second_2': [9.578165683427985e-05, 2.0, 1.0]}, 'pass_13': {'distance_segment_second_1': [3.2137861824301134e-05, 3.0, 1.0], 'distance_segment_second_2': [4.7965809663709314e-05, 3.0, 0.0]}, 'pass_15': {'distance_segment_second_1': [7.158024588141076e-05, 5.0, 0.0], 'distance_segment_second_2': [8.890653162778374e-05, 5.0, 1.0]}, 'pass_17': {'distance_segment_second_1': [2.3883416921457747e-05, 7.0, 1.0], 'distance_segment_second_2': [6.0817756440021506e-05, 7.0, 0.0]}, 'pass_3': {'distance_segment_second_1': [4.2139430466692684e-05, 10.0, 0.0], 'distance_segment_second_2': [6.319870650188742e-05, 10.0, 1.0]}, 'pass_5': {'distance_segment_second_1': [9.47361156045296e-05, 12.0, 0.0], 'distance_segment_second_2': [9.47361156045296e-05, 12.0, 1.0]}, 'pass_9': {'distance_segment_second_1': [4.313462564602431e-05, 16.0, 1.0], 'distance_segment_second_2': [6.148663076436247e-05, 16.0, 0.0]}}\n",
      "{'distance_segment_second_1': [2.3317746094376914e-05, 0.0, 0.0], 'distance_segment_second_2': [3.658563558098666e-05, 0.0, 1.0]}\n",
      "[2.3317746094376914e-05, 0.0, 0.0]\n"
     ]
    }
   ],
   "source": [
    "for car in h5py_mapping_hh[\"0\"]:\n",
    "    print(h5py_mapping_hh[\"0\"][car])\n",
    "    for trip in h5py_mapping_hh[\"0\"][car]:\n",
    "        print(h5py_mapping_hh[\"0\"][car][trip]) \n",
    "        for distance_segment_second in h5py_mapping_hh[\"0\"][car][trip]:\n",
    "            print(h5py_mapping_hh[\"0\"][car][trip][distance_segment_second])\n",
    "            break\n",
    "        break\n",
    "    break\n"
   ]
  },
  {
   "cell_type": "code",
   "execution_count": 13,
   "metadata": {},
   "outputs": [],
   "source": [
    "mapping_with_weights_hh = h5py_mapping_hh\n",
    "mapping_with_weights_vh = h5py_mapping_vh\n",
    "maps = [mapping_with_weights_hh, mapping_with_weights_vh]\n",
    "\n",
    "new_mapping = {}\n",
    "\n",
    "for mapping in maps:\n",
    "    indexes_strings = list(mapping.keys())\n",
    "    indexes = np.sort([int(x) for x in mapping])\n",
    "    for index in indexes:\n",
    "        new_mapping[index] = []\n",
    "        distances = []\n",
    "        segments = []\n",
    "        seconds = []\n",
    "\n",
    "        # total_distance_for_index = get_total_distance(mapping[str(index)])\n",
    "        # Now go into each individual trip and segment and calculate the weight\n",
    "        for car in mapping[str(index)]:\n",
    "            for trip in mapping[str(index)][car]:\n",
    "                for distance_segment_second in mapping[str(index)][car][trip]:\n",
    "                    distances.append(mapping[str(index)][car][trip][distance_segment_second][0])\n",
    "                    segments.append(mapping[str(index)][car][trip][distance_segment_second][1])\n",
    "                    seconds.append(mapping[str(index)][car][trip][distance_segment_second][2])\n",
    "\n",
    "        \n",
    "        weight_ln_ratio = ln_of_ratio_sum_to_1(distances)\n",
    "        weight_inverse_ratio = inverse_of_ratio_sum_to_1(distances)\n",
    "\n",
    "        for i in range(len(distances)):\n",
    "            new_mapping[index].append([distances[i], segments[i], seconds[i], weight_ln_ratio[i], weight_inverse_ratio[i]])\n"
   ]
  },
  {
   "cell_type": "code",
   "execution_count": 14,
   "metadata": {},
   "outputs": [
    {
     "data": {
      "text/plain": [
       "[[8.508740212138433e-05, 4.0, 49.0, 0.06547794769130515, 0.06307755338794452],\n",
       " [9.232527915058013e-05, 4.0, 48.0, 0.06347318278045366, 0.05813256346833801],\n",
       " [6.600137795377312e-05, 8.0, 88.0, 0.07171537179454744, 0.08131807723336026],\n",
       " [6.972502513463056e-05, 8.0, 87.0, 0.07036762292939944, 0.07697530606249184],\n",
       " [7.020840886891911e-05, 13.0, 59.0, 0.07019796738324847, 0.07644533235290442],\n",
       " [7.021387426553937e-05, 13.0, 60.0, 0.07019605585179835, 0.07643938190414415],\n",
       " [9.422030566549493e-05, 20.0, 40.0, 0.06297425113592345, 0.05696335956505656],\n",
       " [9.538483107683817e-05,\n",
       "  22.0,\n",
       "  43.0,\n",
       "  0.06267260336149204,\n",
       "  0.056267910624380094],\n",
       " [8.033683081554249e-05, 25.0, 86.0, 0.06688873626929294, 0.06680752894368305],\n",
       " [8.780281214380418e-05, 25.0, 85.0, 0.06470651771302419, 0.0611268024213488],\n",
       " [8.721455087953374e-05, 27.0, 85.0, 0.06487159470441167, 0.06153910208591807],\n",
       " [8.891766387740006e-05, 27.0, 84.0, 0.06439668177105286, 0.06036039315375293],\n",
       " [8.506221598201344e-05, 61.0, 45.0, 0.06548521755754794, 0.06309623007103421],\n",
       " [7.587189298273057e-05,\n",
       "  76.0,\n",
       "  119.0,\n",
       "  0.06829292098023508,\n",
       "  0.07073904365579418],\n",
       " [7.59015378867963e-05, 76.0, 120.0, 0.06828332807626729, 0.07071141506984899]]"
      ]
     },
     "execution_count": 14,
     "metadata": {},
     "output_type": "execute_result"
    }
   ],
   "source": [
    "new_mapping[index]"
   ]
  },
  {
   "cell_type": "code",
   "execution_count": 9,
   "metadata": {},
   "outputs": [],
   "source": [
    "def distance_gps(gps: np.ndarray) -> np.ndarray:\n",
    "    \"\"\"\n",
    "    Based on gps coordinates (lat, lon) calculate the distance in meters between each point, and returns the accumulated distance in meters.\n",
    "    NOTE: This function is a translation of the MATLAB code from DISTANCE_GPS.m by Asmus Skar.\n",
    "\n",
    "    Parameters\n",
    "    ----------\n",
    "    gps : np.ndarray\n",
    "        The gps coordinates (lat, lon) in degrees\n",
    "\n",
    "    Returns\n",
    "    -------\n",
    "    np.ndarray\n",
    "        The accumulated distance in meters\n",
    "    \"\"\"\n",
    "    # Extract lat and lon\n",
    "    lat = gps[:, 0]\n",
    "    lon = gps[:, 1]\n",
    "\n",
    "    # Create an array for the accumulated distance\n",
    "    dx = np.zeros(len(lat))\n",
    "\n",
    "    R = 6378.137 * 1e3  # Radius of Earth in m\n",
    "\n",
    "    # Loop through the gps coordinates and calculate the distance\n",
    "    for i in range(len(dx)-1):\n",
    "        dLat = np.radians(lat[i+1] - lat[i])\n",
    "        dLon = np.radians(lon[i+1] - lon[i])\n",
    "        a = np.sin(dLat/2)**2 + np.cos(np.radians(lat[i])) * np.cos(np.radians(lat[i+1])) * np.sin(dLon/2)**2\n",
    "        c = 2 * np.arctan2(np.sqrt(a), np.sqrt(1-a))\n",
    "        dx[i+1] = dx[i] + R * c\n",
    "\n",
    "    return dx"
   ]
  },
  {
   "cell_type": "code",
   "execution_count": 12,
   "metadata": {},
   "outputs": [
    {
     "data": {
      "text/plain": [
       "0.0001"
      ]
     },
     "execution_count": 12,
     "metadata": {},
     "output_type": "execute_result"
    }
   ],
   "source": [
    "1e-4"
   ]
  },
  {
   "cell_type": "code",
   "execution_count": 11,
   "metadata": {},
   "outputs": [
    {
     "data": {
      "text/plain": [
       "array([ 0.        , 11.13194908])"
      ]
     },
     "execution_count": 11,
     "metadata": {},
     "output_type": "execute_result"
    }
   ],
   "source": [
    "gps = np.array([[12.0001, 55.00000],[12.0001, 55.0000]])\n",
    "\n",
    "\n",
    "\n",
    "dist = distance_gps(gps)\n",
    "dist"
   ]
  },
  {
   "cell_type": "code",
   "execution_count": null,
   "metadata": {},
   "outputs": [],
   "source": [
    "parameter_dict = {\n",
    "        'acc_long':     {'bstar': 198,      'rstar': 1,     'b': 198,   'r': 0.05   },\n",
    "        'acc_trans':    {'bstar': 32768,    'rstar': 1,     'b': 32768, 'r': 0.04   },\n",
    "        'acc_yaw':      {'bstar': 2047,     'rstar': 1,     'b': 2047,  'r': 0.1    },\n",
    "        'brk_trq_elec': {'bstar': 4096,     'rstar': -1,    'b': 4098,  'r': -1     },\n",
    "        'whl_trq_est':  {'bstar': 12800,    'rstar': 0.5,   'b': 12700, 'r': 1      },\n",
    "        'trac_cons':    {'bstar': 80,       'rstar': 1,     'b': 79,    'r': 1      },\n",
    "        'trip_cons':    {'bstar': 0,        'rstar': 0.1,   'b': 0,     'r': 1      }\n",
    "    }\n",
    "\n",
    "\n",
    "def convertdata(data, parameter):\n",
    "    bstar = parameter['bstar']\n",
    "    rstar = parameter['rstar']\n",
    "    b = parameter['b']\n",
    "    r = parameter['r']\n",
    "    # We only convert data in the second column at idx 1 (wrt. 0-indexing), as the first column is time\n",
    "    col0 = data[:,0]\n",
    "    col1 = ((data[:,1]-bstar*rstar)-b)*r\n",
    "    data = np.column_stack((col0, col1))\n",
    "    return data\n",
    "\n",
    "\n",
    "def unpack_hdf5(hdf5_file, convert: bool = False):\n",
    "    with h5py.File(hdf5_file, 'r') as f:\n",
    "        print(f)\n",
    "        data = unpack_hdf5_(f, convert)\n",
    "    return data\n",
    "\n",
    "\n",
    "def unpack_hdf5_(group, convert: bool = False):\n",
    "    data = {}\n",
    "    for key in group.keys():\n",
    "        if isinstance(group[key], h5py.Group):\n",
    "            data[key] = unpack_hdf5_(group[key])\n",
    "        else:\n",
    "            if convert and key in parameter_dict:\n",
    "                data[key] = convertdata(group[key][()], parameter_dict[key])\n",
    "            else:\n",
    "                d = group[key][()]\n",
    "                if isinstance(d, bytes):\n",
    "                    data[key] = d.decode('utf-8')\n",
    "                else:\n",
    "                    data[key] = group[key][()]\n",
    "    return data\n",
    "\n",
    "\n",
    "def find_best_start_and_end_indeces_by_lonlat(trip: np.ndarray, section: np.ndarray):\n",
    "    # Find the start and end indeces of the section data that are closest to the trip data\n",
    "    lon_a, lat_a = trip[:,0], trip[:,1]\n",
    "    lon_b, lat_b = section[:,0], section[:,1]\n",
    "    \n",
    "    start_index = np.argmin(np.linalg.norm(np.column_stack((lon_a, lat_a)) - np.array([lon_b[0], lat_b[0]]), axis=1))\n",
    "    end_index = np.argmin(np.linalg.norm(np.column_stack((lon_a, lat_a)) - np.array([lon_b[-1], lat_b[-1]]), axis=1))\n",
    "\n",
    "    return start_index, end_index\n",
    "\n",
    "def get_locations(p79, gm_data):\n",
    "    # Extract every 10th item starting from idx[0] to idx[1]+1, to get one location for each meter\n",
    "    lon_zp = p79['Lon']\n",
    "    lat_zp = p79['Lat']\n",
    "    idx = find_best_start_and_end_indeces_by_lonlat(p79[['Lat', 'Lon']].to_numpy(), gm_data['gps'][:,1:]) # TODO is this really the best place to start?? \n",
    "    loc_lon = lon_zp[idx[0]:idx[1]+1:10]\n",
    "    loc_lat = lat_zp[idx[0]:idx[1]+1:10]\n",
    "\n",
    "    # Combine lon and lat into a list of lists\n",
    "    locations = [[lon, lat] for lon, lat in zip(loc_lon, loc_lat)]\n",
    "\n",
    "    distance = [value for value in p79[\"Distance [m]\"][idx[0]:idx[1]+1:10]]\n",
    "    \n",
    "    return locations, distance"
   ]
  }
 ],
 "metadata": {
  "kernelspec": {
   "display_name": "venv",
   "language": "python",
   "name": "python3"
  },
  "language_info": {
   "codemirror_mode": {
    "name": "ipython",
    "version": 3
   },
   "file_extension": ".py",
   "mimetype": "text/x-python",
   "name": "python",
   "nbconvert_exporter": "python",
   "pygments_lexer": "ipython3",
   "version": "3.9.6"
  }
 },
 "nbformat": 4,
 "nbformat_minor": 2
}
