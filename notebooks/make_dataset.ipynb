{
 "cells": [
  {
   "cell_type": "markdown",
   "metadata": {},
   "source": [
    "# Make dataset pipeline\n",
    "This notebook seeks to explain the data-processing pipeline of our make_dataset.py file. It will take you through each step, going from the raw data to the segmented data with computed KPIs, and explaining the functions and choices made at each step.\n"
   ]
  },
  {
   "cell_type": "markdown",
   "metadata": {},
   "source": [
    "## Step 1 - Converting data "
   ]
  },
  {
   "cell_type": "markdown",
   "metadata": {},
   "source": [
    "The raw data is the CPH1 route from the LiRA data-set, as can be found in [Table 7](https://doi.org/10.1016/j.dib.2023.109426) of the LiRA-CD paper. Our first goal, as described in *section 3* of the paper, is to perform translation (conversion) of some of the car sensors, \n",
    "\n",
    "$$\n",
    "\\begin{align*}\n",
    "    s = ((s_{\\text{LiRA-CD}} - b^* \\cdot r^*) - b) \\cdot r,\n",
    "\\end{align*}\n",
    "$$\n",
    "where $s_{LiRA-CD}$ is the sensor signal stored in LiRA-CD, $b^*$ and $r^*$ are the offset and resolution values (values achieved through the CanZE application) and $b$ and $r$ are the corrected offset and resolution values (found in the LiRA project). The values are found in the following [paper](https://doi.org/10.1016/j.dib.2023.109426) and are further specified below,\n",
    "\n",
    "```Python\n",
    "CONVERT_PARAMETER_DICT = {\n",
    "    'acc_long':     {'bstar': 198,      'rstar': 1,     'b': 198,   'r': 0.05   },\n",
    "    'acc_trans':    {'bstar': 32768,    'rstar': 1,     'b': 32768, 'r': 0.04   },\n",
    "    'acc_yaw':      {'bstar': 2047,     'rstar': 1,     'b': 2047,  'r': 0.1    },\n",
    "    'brk_trq_elec': {'bstar': 4096,     'rstar': -1,    'b': 4098,  'r': -1     },\n",
    "    'whl_trq_est':  {'bstar': 12800,    'rstar': 0.5,   'b': 12700, 'r': 1      },\n",
    "    'trac_cons':    {'bstar': 80,       'rstar': 1,     'b': 79,    'r': 1      },\n",
    "    'trip_cons':    {'bstar': 0,        'rstar': 0.1,   'b': 0,     'r': 1      }\n",
    "}\n",
    "```\n",
    "In addition to performing the conversion, we also smooth the data of some of the car sensor signals, as they are prone to noise and can have alot of sporadic behavior. To smoothen the signals we use Locally Weighted Scatterplot Smoothing (LOWESS).\n",
    "\n",
    "```Python\n",
    "SMOOTH_PARAMETER_DICT = {\n",
    "    'acc.xyz':       {'kind': 'lowess', 'frac': 0.005},\n",
    "    'spd_veh':       {'kind': 'lowess', 'frac': 0.005},\n",
    "    'acc_long':      {'kind': 'lowess', 'frac': 0.005},\n",
    "    'acc_trans':     {'kind': 'lowess', 'frac': 0.005}\n",
    "}\n",
    "```"
   ]
  },
  {
   "cell_type": "markdown",
   "metadata": {},
   "source": []
  }
 ],
 "metadata": {
  "language_info": {
   "name": "python"
  }
 },
 "nbformat": 4,
 "nbformat_minor": 2
}
