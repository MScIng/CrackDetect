{
 "cells": [
  {
   "cell_type": "markdown",
   "metadata": {},
   "source": [
    "#### From time predictions to location predictions\n",
    "\n",
    "We will try predicting the road condition in 1 meter intervals."
   ]
  },
  {
   "cell_type": "code",
   "execution_count": 33,
   "metadata": {},
   "outputs": [],
   "source": [
    "# Create an example of weights for simplicity\n",
    "# We have car A, B and C which have all been driving over a segment. We are interested in\n",
    "\n",
    "# Simple exmaple\n",
    "A_pred = 5\n",
    "A_speed = 50 \n",
    "\n",
    "B = 7\n",
    "B_speed = 30\n",
    "\n",
    "C = 6 \n",
    "C_speed = 40\n"
   ]
  },
  {
   "cell_type": "code",
   "execution_count": 34,
   "metadata": {},
   "outputs": [
    {
     "name": "stdout",
     "output_type": "stream",
     "text": [
      "Time to drive 2 meters at 100 km/h: 0.36 seconds\n"
     ]
    }
   ],
   "source": [
    "def time_to_drive_two_meters(speed_kmh):\n",
    "    # Convert speed from km/h to m/s\n",
    "    speed_ms = speed_kmh * (1000 / 3600)\n",
    "    \n",
    "    # Distance to be traveled in meters\n",
    "    distance_m = 10\n",
    "    \n",
    "    # Calculate time in seconds\n",
    "    time_seconds = distance_m / speed_ms\n",
    "    \n",
    "    return time_seconds\n",
    "\n",
    "# Example usage\n",
    "speed_kmh = 100  # Speed in km/h\n",
    "time_seconds = time_to_drive_two_meters(speed_kmh)\n",
    "print(f\"Time to drive 2 meters at {speed_kmh} km/h: {time_seconds} seconds\")\n"
   ]
  },
  {
   "cell_type": "code",
   "execution_count": 35,
   "metadata": {},
   "outputs": [],
   "source": [
    "# Use the speed to estimate the amount of sample points there are in the area of interest (AOI)\n",
    "# The AOI is thought to be defined by an X meter long segment\n",
    "sample_freq = 250  # Sample frequency in Hz\n",
    "A_samples = time_to_drive_two_meters(A_speed) * sample_freq\n",
    "B_samples = time_to_drive_two_meters(B_speed) * sample_freq\n",
    "C_samples = time_to_drive_two_meters(C_speed) * sample_freq\n",
    "total_samples = A_samples + B_samples + C_samples\n",
    "\n",
    "A_weight = A_samples / total_samples\n",
    "B_weight = B_samples / total_samples\n",
    "C_weight = C_samples / total_samples\n"
   ]
  },
  {
   "cell_type": "code",
   "execution_count": 36,
   "metadata": {},
   "outputs": [],
   "source": [
    "# Create a function that map each location to a 1 second time windows.\n",
    "AIO_lan_lon = [[1, 2], [3, 4], [5, 6]] # Example of locations\n",
    "loc_cars = {}\n",
    "cars = [\"car_1\", \"car_2\", \"car_3\"] \n",
    "\n",
    "for car in cars:\n",
    "    loc_cars[car] = []\n",
    "    # go trough each location and map it to a 1 second time window\n",
    "    for lan, lon in AIO_lan_lon:\n",
    "        found_windown = 1\n",
    "        loc_cars[car].apend(found_windown)\n",
    "        \n",
    "\n"
   ]
  },
  {
   "cell_type": "code",
   "execution_count": 41,
   "metadata": {},
   "outputs": [
    {
     "data": {
      "text/plain": [
       "3"
      ]
     },
     "execution_count": 41,
     "metadata": {},
     "output_type": "execute_result"
    }
   ],
   "source": []
  },
  {
   "cell_type": "code",
   "execution_count": 38,
   "metadata": {},
   "outputs": [],
   "source": [
    "# We will now localise the point of interest in the time domains.\n",
    "# It does not work to just take the first and last lon. and lat. and not the median either. \n",
    "# We need to be able to find the location fast, right now we will just \n",
    "\n",
    "# Should they all have a dictionary?\n",
    "A_t1_data = [[1,2,3,4,5,6,7,8,9,10],\n",
    "        [1,2,3,4,5,6,7,8,9,10],\n",
    "        [1,2,3,4,5,6,7,8,9,10],\n",
    "        [1,2,3,4,5,6,7,8,9,10],\n",
    "        [1,2,3,4,5,6,7,8,9,10],\n",
    "        [1,2,3,4,5,6,7,8,9,10]]\n",
    "A_t1_pred = 5\n"
   ]
  },
  {
   "cell_type": "code",
   "execution_count": null,
   "metadata": {},
   "outputs": [],
   "source": []
  }
 ],
 "metadata": {
  "kernelspec": {
   "display_name": "Python 3",
   "language": "python",
   "name": "python3"
  },
  "language_info": {
   "codemirror_mode": {
    "name": "ipython",
    "version": 3
   },
   "file_extension": ".py",
   "mimetype": "text/x-python",
   "name": "python",
   "nbconvert_exporter": "python",
   "pygments_lexer": "ipython3",
   "version": "3.8.7"
  }
 },
 "nbformat": 4,
 "nbformat_minor": 2
}
