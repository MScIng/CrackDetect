{
 "cells": [
  {
   "cell_type": "markdown",
   "metadata": {},
   "source": [
    "#### From time predictions to location predictions\n",
    "\n",
    "We will try predicting the road condition in 1 meter intervals.\n",
    "\n",
    "The issue before have been we have only used intervals, which just had the length of whatever far one could travel in 1 second. "
   ]
  },
  {
   "cell_type": "code",
   "execution_count": 1,
   "metadata": {},
   "outputs": [],
   "source": [
    "import numpy as np\n",
    "import pandas as pd\n",
    "import matplotlib.pyplot as plt\n",
    "import matplotlib.animation as animation\n",
    "from matplotlib import cm\n",
    "import h5py\n",
    "from scipy.interpolate import CubicSpline\n",
    "from copy import deepcopy"
   ]
  },
  {
   "cell_type": "code",
   "execution_count": 9,
   "metadata": {},
   "outputs": [],
   "source": [
    "parameter_dict = {\n",
    "        'acc_long':     {'bstar': 198,      'rstar': 1,     'b': 198,   'r': 0.05   },\n",
    "        'acc_trans':    {'bstar': 32768,    'rstar': 1,     'b': 32768, 'r': 0.04   },\n",
    "        'acc_yaw':      {'bstar': 2047,     'rstar': 1,     'b': 2047,  'r': 0.1    },\n",
    "        'brk_trq_elec': {'bstar': 4096,     'rstar': -1,    'b': 4098,  'r': -1     },\n",
    "        'whl_trq_est':  {'bstar': 12800,    'rstar': 0.5,   'b': 12700, 'r': 1      },\n",
    "        'trac_cons':    {'bstar': 80,       'rstar': 1,     'b': 79,    'r': 1      },\n",
    "        'trip_cons':    {'bstar': 0,        'rstar': 0.1,   'b': 0,     'r': 1      }\n",
    "    }\n",
    "\n",
    "def convertdata(data, parameter):\n",
    "    bstar = parameter['bstar']\n",
    "    rstar = parameter['rstar']\n",
    "    b = parameter['b']\n",
    "    r = parameter['r']\n",
    "    # We only convert data in the second column at idx 1 (wrt. 0-indexing), as the first column is time\n",
    "    col0 = data[:,0]\n",
    "    col1 = ((data[:,1]-bstar*rstar)-b)*r\n",
    "    data = np.column_stack((col0, col1))\n",
    "    return data\n",
    "\n",
    "\n",
    "def unpack_hdf5(hdf5_file, convert: bool = False):\n",
    "    with h5py.File(hdf5_file, 'r') as f:\n",
    "        data = unpack_hdf5_(f, convert)\n",
    "    return data\n",
    "\n",
    "\n",
    "def unpack_hdf5_(group, convert: bool = False):\n",
    "    data = {}\n",
    "    for key in group.keys():\n",
    "        if isinstance(group[key], h5py.Group):\n",
    "            data[key] = unpack_hdf5_(group[key])\n",
    "        else:\n",
    "            if convert and key in parameter_dict:\n",
    "                data[key] = convertdata(group[key][()], parameter_dict[key])\n",
    "            else:\n",
    "                d = group[key][()]\n",
    "                if isinstance(d, bytes):\n",
    "                    data[key] = d.decode('utf-8')\n",
    "                else:\n",
    "                    data[key] = group[key][()]\n",
    "    return data\n",
    "\n",
    "\n",
    "def find_best_start_and_end_indeces_by_lonlat(trip: np.ndarray, section: np.ndarray):\n",
    "    # Find the start and end indeces of the section data that are closest to the trip data\n",
    "    lon_a, lat_a = trip[:,0], trip[:,1]\n",
    "    lon_b, lat_b = section[:,0], section[:,1]\n",
    "    \n",
    "    start_index = np.argmin(np.linalg.norm(np.column_stack((lon_a, lat_a)) - np.array([lon_b[0], lat_b[0]]), axis=1))\n",
    "    end_index = np.argmin(np.linalg.norm(np.column_stack((lon_a, lat_a)) - np.array([lon_b[-1], lat_b[-1]]), axis=1))\n",
    "\n",
    "    return start_index, end_index\n",
    "\n",
    "\n",
    "def time_to_drive_X_meters(speed_kmh, distance_m=10):\n",
    "    # Convert speed from km/h to m/s\n",
    "    speed_ms = speed_kmh * (1000 / 3600)\n",
    "\n",
    "    # Calculate time in seconds\n",
    "    time_seconds = distance_m / speed_ms\n",
    "    \n",
    "    return time_seconds"
   ]
  },
  {
   "cell_type": "code",
   "execution_count": 26,
   "metadata": {},
   "outputs": [],
   "source": [
    "autopi_hh = unpack_hdf5('../data/raw/AutoPi_CAN/platoon_CPH1_HH.hdf5')\n",
    "gm_data = autopi_hh['GM']['16006']['pass_1'] # TODO choose a one true route. \n",
    "p79_hh = pd.read_csv('../data/raw/ref_data/cph1_zp_hh.csv', sep=';', encoding='unicode_escape')\n",
    "p79_vh = pd.read_csv('../data/raw/ref_data/cph1_zp_vh.csv', sep=';', encoding='unicode_escape')"
   ]
  },
  {
   "cell_type": "code",
   "execution_count": 24,
   "metadata": {},
   "outputs": [
    {
     "name": "stdout",
     "output_type": "stream",
     "text": [
      "[[12.53019946, 55.7111808], [12.53018721, 55.71117492], [12.53017498, 55.71116905], [12.53016273, 55.71116317], [12.53015047, 55.7111573]]\n"
     ]
    }
   ],
   "source": [
    "# HH \n",
    "# Extract every 10th item starting from idx[0] to idx[1]+1, to get one location for each meter\n",
    "lon_zp_hh = p79_hh['Lon']\n",
    "lat_zp_hh = p79_hh['Lat']\n",
    "idx_hh = find_best_start_and_end_indeces_by_lonlat(p79_hh[['Lat', 'Lon']].to_numpy(), gm_data['gps'][:,1:])\n",
    "loc_hh_lon = lon_zp_hh[idx_hh[0]:idx_hh[1]+1:10]\n",
    "loc_hh_lat = lat_zp_hh[idx_hh[0]:idx_hh[1]+1:10]\n",
    "\n",
    "# Combine lon and lat into a list of lists\n",
    "loc_hh = [[lon, lat] for lon, lat in zip(loc_hh_lon, loc_hh_lat)]\n",
    "\n",
    "# For demonstration, let's print the first few pairs to verify\n",
    "print(loc_hh[:5])"
   ]
  },
  {
   "cell_type": "code",
   "execution_count": 27,
   "metadata": {},
   "outputs": [
    {
     "name": "stdout",
     "output_type": "stream",
     "text": [
      "[[12.53019946, 55.7111808], [12.53018721, 55.71117492], [12.53017498, 55.71116905], [12.53016273, 55.71116317], [12.53015047, 55.7111573]]\n"
     ]
    }
   ],
   "source": [
    "# VH\n",
    "# Extract every 10th item starting from idx[0] to idx[1]+1, to get one location for each meter\n",
    "lon_zp_vh = p79_vh['Lon']\n",
    "lat_zp_vh = p79_vh['Lat']\n",
    "idx_vh = find_best_start_and_end_indeces_by_lonlat(p79_vh[['Lat', 'Lon']].to_numpy(), gm_data['gps'][:,1:])\n",
    "loc_vh_lon = lon_zp_vh[idx_hh[0]:idx_vh[1]+1:10]\n",
    "loc_vh_lat = lat_zp_vh[idx_hh[0]:idx_vh[1]+1:10]\n",
    "\n",
    "# Combine lon and lat into a list of lists\n",
    "loc_vh = [[lon, lat] for lon, lat in zip(loc_hh_lon, loc_hh_lat)]\n",
    "\n",
    "# For demonstration, let's print the first few pairs to verify\n",
    "print(loc_vh[:5])"
   ]
  },
  {
   "cell_type": "code",
   "execution_count": 29,
   "metadata": {},
   "outputs": [
    {
     "name": "stdout",
     "output_type": "stream",
     "text": [
      "{'car_1': []}\n"
     ]
    },
    {
     "ename": "ValueError",
     "evalue": "too many values to unpack (expected 2)",
     "output_type": "error",
     "traceback": [
      "\u001b[0;31m---------------------------------------------------------------------------\u001b[0m",
      "\u001b[0;31mValueError\u001b[0m                                Traceback (most recent call last)",
      "Cell \u001b[0;32mIn[29], line 12\u001b[0m\n\u001b[1;32m     10\u001b[0m \u001b[38;5;28mprint\u001b[39m(AIO_lan_lon)\n\u001b[1;32m     11\u001b[0m \u001b[38;5;66;03m# go trough each location and map it to a 1 second time window\u001b[39;00m\n\u001b[0;32m---> 12\u001b[0m \u001b[38;5;28;01mfor\u001b[39;00m lan, lon \u001b[38;5;129;01min\u001b[39;00m AIO_lan_lon:\n\u001b[1;32m     13\u001b[0m     \u001b[38;5;28mprint\u001b[39m(lan)\n\u001b[1;32m     14\u001b[0m     \u001b[38;5;28;01mbreak\u001b[39;00m\n",
      "\u001b[0;31mValueError\u001b[0m: too many values to unpack (expected 2)"
     ]
    }
   ],
   "source": [
    "# Create a function that map each location to a 1 second time window.\n",
    "loc_cars_hh = {}\n",
    "loc_cars_vh = {}\n",
    "\n",
    "cars = [\"car_1\", \"car_2\", \"car_3\"] \n",
    "\n",
    "for AIO_lan_lon in [loc_cars_hh, loc_cars_vh]:\n",
    "    for car in cars:\n",
    "        AIO_lan_lon[car] = []\n",
    "        print(AIO_lan_lon)\n",
    "        # go trough each location and map it to a 1 second time window\n",
    "        for lan, lon in AIO_lan_lon:\n",
    "            print(lan)\n",
    "            break\n",
    "            # found_window = 0 #TODO: find the window that is closest to the location\n",
    "            # AIO_lan_lon[car].apend(found_window)\n",
    "        "
   ]
  },
  {
   "cell_type": "markdown",
   "metadata": {},
   "source": [
    "#### After finding an mapping each AOI to a time window, we will predict the KPI of the AOI"
   ]
  },
  {
   "cell_type": "code",
   "execution_count": 7,
   "metadata": {},
   "outputs": [],
   "source": [
    "# Use the speed to estimate the amount of sample points there are in the area of interest (AOI)\n",
    "# The AOI is thought to be defined by an X meter long segment\n",
    "A_speed = 50\n",
    "B_speed = 30\n",
    "C_speed = 40\n",
    "\n",
    "sample_freq = 250  # Sample frequency in Hz\n",
    "A_samples = time_to_drive_X_meters(A_speed) * sample_freq\n",
    "B_samples = time_to_drive_X_meters(B_speed) * sample_freq\n",
    "C_samples = time_to_drive_X_meters(C_speed) * sample_freq\n",
    "total_samples = A_samples + B_samples + C_samples\n",
    "\n",
    "A_weight = A_samples / total_samples\n",
    "B_weight = B_samples / total_samples\n",
    "C_weight = C_samples / total_samples\n"
   ]
  },
  {
   "cell_type": "code",
   "execution_count": 36,
   "metadata": {},
   "outputs": [],
   "source": [
    "\n",
    "\n"
   ]
  },
  {
   "cell_type": "code",
   "execution_count": 8,
   "metadata": {},
   "outputs": [],
   "source": [
    "# We will now localise the point of interest in the time domains.\n",
    "# It does not work to just take the first and last lon. and lat. and not the median either. \n",
    "# We need to be able to find the location fast, right now we will just \n",
    "\n",
    "# Should they all have a dictionary?\n",
    "A_t1_data = [[1,2,3,4,5,6,7,8,9,10],\n",
    "        [1,2,3,4,5,6,7,8,9,10],\n",
    "        [1,2,3,4,5,6,7,8,9,10],\n",
    "        [1,2,3,4,5,6,7,8,9,10],\n",
    "        [1,2,3,4,5,6,7,8,9,10],\n",
    "        [1,2,3,4,5,6,7,8,9,10]]\n",
    "A_t1_pred = 5\n"
   ]
  },
  {
   "cell_type": "code",
   "execution_count": null,
   "metadata": {},
   "outputs": [],
   "source": []
  }
 ],
 "metadata": {
  "kernelspec": {
   "display_name": "Python 3",
   "language": "python",
   "name": "python3"
  },
  "language_info": {
   "codemirror_mode": {
    "name": "ipython",
    "version": 3
   },
   "file_extension": ".py",
   "mimetype": "text/x-python",
   "name": "python",
   "nbconvert_exporter": "python",
   "pygments_lexer": "ipython3",
   "version": "3.8.7"
  }
 },
 "nbformat": 4,
 "nbformat_minor": 2
}
